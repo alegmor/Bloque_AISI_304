{
 "cells": [
  {
   "cell_type": "markdown",
   "id": "9f048f40",
   "metadata": {
    "nbgrader": {
     "grade": false,
     "grade_id": "cell-181e90638536f4aa",
     "locked": true,
     "schema_version": 3,
     "solution": false,
     "task": false
    }
   },
   "source": [
    "<div>\n",
    "<img align=\"center\"\n",
    "src=\"Images/banner.png\" width=\"950\" height=\"9500\"/>\n",
    "</div>"
   ]
  },
  {
   "cell_type": "markdown",
   "id": "ae4a3a72",
   "metadata": {
    "nbgrader": {
     "grade": false,
     "grade_id": "cell-8a23b548f7ba366b",
     "locked": true,
     "schema_version": 3,
     "solution": false,
     "task": false
    }
   },
   "source": [
    "Supongamos que tenemos un bloque de acero inoxidable AISI 304 como se muestra en la figura de abajo. Las paredes planas en $x=0$ y $x=L=0.3$ se mantienen a $T_1 = 600 \\mathrm{K}$ y $T_2=400 \\mathrm{K}$, respectivamente.\n",
    "\n",
    "<pre>\n",
    "<div>\n",
    "<img align=\"center\"\n",
    "src=\"Images/bloque.jpg\" width=\"300\" height=\"300\"/>\n",
    "</div>"
   ]
  },
  {
   "cell_type": "markdown",
   "id": "04083923",
   "metadata": {
    "nbgrader": {
     "grade": false,
     "grade_id": "cell-856167808879628a",
     "locked": true,
     "schema_version": 3,
     "solution": false,
     "task": false
    }
   },
   "source": [
    "1. Examine el comportamiento de este material observado experimentalmente de la conductividad térmica como función de la temperatura, a partir de la Figura 2.5 y los valores listados en la tabla A.1\n",
    "\n",
    "<pre>\n",
    "<div>\n",
    "<img align=\"left\"\n",
    "src=\"Images/Figura2_5.png\" width=\"250\" height=\"250\"/>\n",
    "</div>\n",
    "<div>\n",
    "<img align=\"right\"\n",
    "src=\"Images/AISI304.jpg\" width=\"450\" height=\"450\"/>\n",
    "</div>"
   ]
  },
  {
   "cell_type": "markdown",
   "id": "dd290df9",
   "metadata": {
    "nbgrader": {
     "grade": false,
     "grade_id": "cell-5dfd9c8edce87194",
     "locked": true,
     "schema_version": 3,
     "solution": false,
     "task": false
    }
   },
   "source": [
    "<font size=1><center>_Incropera, F. P., DeWitt, D. P., Bergman, T. L., & Lavine, A. S. (1996). Fundamentals of heat and mass transfer (Vol. 6, pp. 408-409). New York: Wiley._</font>"
   ]
  },
  {
   "cell_type": "markdown",
   "id": "ec4573e8",
   "metadata": {
    "nbgrader": {
     "grade": false,
     "grade_id": "cell-75122bc6b998bfa1",
     "locked": true,
     "schema_version": 3,
     "solution": false,
     "task": false
    }
   },
   "source": [
    ">(a) Aproxime $k(T)$ por una función lineal de la forma\n",
    "\n",
    "$$k(T) = k_0 + k_1 T.$$\n",
    "\n",
    ">Esto es, calcule los valores $k_0$ y $k_1$."
   ]
  },
  {
   "cell_type": "code",
   "execution_count": null,
   "id": "8f0d1c23",
   "metadata": {},
   "outputs": [],
   "source": [
    "# Introduce los valores de k1 y k0"
   ]
  },
  {
   "cell_type": "code",
   "execution_count": null,
   "id": "cfbb0f58",
   "metadata": {
    "nbgrader": {
     "grade": false,
     "grade_id": "cell-fb92406aaf4fd86c",
     "locked": true,
     "schema_version": 3,
     "solution": false,
     "task": false
    }
   },
   "outputs": [],
   "source": [
    "#Verifica tu respuesta\n",
    "from macti.evaluacion import Evalua\n",
    "evaluacion = Evalua(\"../utils/data/solutions\", local=True)\n",
    "evaluacion.verifica(np.array([k0,k1]),4)"
   ]
  },
  {
   "cell_type": "markdown",
   "id": "352b594b",
   "metadata": {
    "nbgrader": {
     "grade": false,
     "grade_id": "cell-335f307a761a6293",
     "locked": true,
     "schema_version": 3,
     "solution": false,
     "task": false
    }
   },
   "source": [
    "2. Considere que la conductividad térmica es constante e igual al promedio de la conductividad entre los valores entre $T_1 = 600 \\mathrm{K}$ y $T_2 = 400 \\mathrm{K}$. Esto es\n",
    "\n",
    "$$k = \\dfrac{k(T=600 \\mathrm{K}) + k(T=400 \\mathrm{K})}{2}.$$\n",
    "\n",
    "> (b) Obtenga el campo de temperaturas $T(x)$, $0 < x < L$ y el flujo de calor por unidad de área $q_{x}^{\"}$. Sugerencia: leer la sección 3.1.1."
   ]
  },
  {
   "cell_type": "code",
   "execution_count": null,
   "id": "d7c3599d",
   "metadata": {
    "nbgrader": {
     "grade": false,
     "grade_id": "cell-dddc5c312d71c2f8",
     "locked": false,
     "schema_version": 3,
     "solution": true,
     "task": false
    }
   },
   "outputs": [],
   "source": [
    "def Tx(T1,T2,L,x):\n",
    "    #BEGIN SOLUTION\n",
    "    Tx = (x*(T2-T1))/L+T1\n",
    "    #END SOLUTION\n",
    "    return Tx\n",
    "\n",
    "\n",
    "def qx(T1,T2,L,k):\n",
    "    #BEGIN SOLUTION\n",
    "    q = (k/L)*(T1-T2)\n",
    "    #END SOLUTION\n",
    "    return q"
   ]
  },
  {
   "cell_type": "code",
   "execution_count": null,
   "id": "b2ae5212",
   "metadata": {
    "nbgrader": {
     "grade": true,
     "grade_id": "cell-9ac350b95e7114a6",
     "locked": true,
     "points": 0,
     "schema_version": 3,
     "solution": false,
     "task": false
    }
   },
   "outputs": [],
   "source": [
    "#Introduce los valores de los parámetros en este caso\n",
    "T1 = 400\n",
    "T2 = 600\n",
    "L  = 1\n",
    "x  = np.linspace(0,L,50)\n",
    "k  = 1"
   ]
  },
  {
   "cell_type": "code",
   "execution_count": null,
   "id": "e7ec076f",
   "metadata": {
    "nbgrader": {
     "grade": false,
     "grade_id": "cell-95fece8984914870",
     "locked": true,
     "schema_version": 3,
     "solution": false,
     "task": false
    }
   },
   "outputs": [],
   "source": [
    "evaluacion.verifica(Tx(T1,T2,L,x),5)\n",
    "evaluacion.verifica(np.array([qx(T1,T2,L,k)]),6)"
   ]
  },
  {
   "cell_type": "markdown",
   "id": "a22ae90a",
   "metadata": {},
   "source": [
    "3. Considere que la conductividad térmica es una función lineal de la temperatura $k(T) = k_0 + k_1 T$. Encuentre la distribución de temperaturas $T(x)$ y el flujo de calor $q_x$."
   ]
  },
  {
   "cell_type": "code",
   "execution_count": null,
   "id": "d45a4757",
   "metadata": {
    "nbgrader": {
     "grade": false,
     "grade_id": "cell-6d52a8aa0d0dcf74",
     "locked": false,
     "schema_version": 3,
     "solution": true,
     "task": false
    }
   },
   "outputs": [],
   "source": [
    "def Tx_k(T1,T2,L,x,k0,k1):\n",
    "    #BEGIN SOLUTION\n",
    "    c0 = (1/L)*((k1/2)*((T2-T1)*(T2+T1))+k0*(T2-T1))\n",
    "    c1 = (k1/2)*(T1**2) + k0*T1\n",
    "    T  = (-k0/k1)+ np.sqrt((k0/k1)**2 + (2/k1)*(c0*x+c1))\n",
    "    #END SOLUTION\n",
    "    return T\n",
    "\n",
    "def qx_k(T1,T2,L,k0,k1):\n",
    "    #BEGIN SOLUTION\n",
    "    c0 = (1/L)*((k1/2)*((T2-T1)*(T2+T1))+k0*(T2-T1))\n",
    "    #END SOLUTION\n",
    "    return -c0"
   ]
  },
  {
   "cell_type": "code",
   "execution_count": null,
   "id": "d68e9404",
   "metadata": {
    "nbgrader": {
     "grade": false,
     "grade_id": "cell-3bc00e41d8b15802",
     "locked": true,
     "schema_version": 3,
     "solution": false,
     "task": false
    }
   },
   "outputs": [],
   "source": [
    "evaluacion.verifica(Tx_k(T1,T2,L,x,k0,k1),7)\n",
    "evaluacion.verifica(np.array([qx_k(T1,T2,L,k0,k1)]),8)"
   ]
  },
  {
   "cell_type": "markdown",
   "id": "8c73e9af",
   "metadata": {
    "nbgrader": {
     "grade": false,
     "grade_id": "cell-31fa917139b8016c",
     "locked": true,
     "schema_version": 3,
     "solution": false,
     "task": false
    }
   },
   "source": [
    "4. Grafique la distribución de temperatura $T(x)$ obtenida en el inciso (b) y en el inciso (c). Compare sus resultados con la siguiente figura.\n",
    "<pre>\n",
    "<div>\n",
    "<img align=\"center\"\n",
    "src=\"Images/Tx_AISI.png\" width=\"350\" height=\"350\"/>\n",
    "</div>"
   ]
  },
  {
   "cell_type": "markdown",
   "id": "5c94cada",
   "metadata": {
    "nbgrader": {
     "grade": false,
     "grade_id": "cell-f42e385529cb0fd2",
     "locked": true,
     "schema_version": 3,
     "solution": false,
     "task": false
    }
   },
   "source": [
    "5. Concluya si es razonable o no ignorar la dependencia de la conductividad térmica en función de la temperatura $k(T)$ bajo las condiciones examinadas"
   ]
  },
  {
   "cell_type": "markdown",
   "id": "f7edcd7a",
   "metadata": {
    "nbgrader": {
     "grade": true,
     "grade_id": "cell-c2aa13ae0fca4d27",
     "locked": false,
     "points": 0,
     "schema_version": 3,
     "solution": true,
     "task": false
    }
   },
   "source": []
  }
 ],
 "metadata": {
  "celltoolbar": "Create Assignment",
  "kernelspec": {
   "display_name": "Python 3 (ipykernel)",
   "language": "python",
   "name": "python3"
  },
  "language_info": {
   "codemirror_mode": {
    "name": "ipython",
    "version": 3
   },
   "file_extension": ".py",
   "mimetype": "text/x-python",
   "name": "python",
   "nbconvert_exporter": "python",
   "pygments_lexer": "ipython3",
   "version": "3.9.7"
  }
 },
 "nbformat": 4,
 "nbformat_minor": 5
}
